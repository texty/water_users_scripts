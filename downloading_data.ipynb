{
 "cells": [
  {
   "cell_type": "code",
   "execution_count": 1,
   "metadata": {
    "ExecuteTime": {
     "end_time": "2021-01-19T12:26:45.271743Z",
     "start_time": "2021-01-19T12:26:44.760969Z"
    }
   },
   "outputs": [
    {
     "name": "stderr",
     "output_type": "stream",
     "text": [
      "Missing colon in file Path('/home/ptrbdr/.config/matplotlib/stylelib/texty.mplstyle'), line 14 (\"                               'fc4f30', \")\n",
      "Missing colon in file Path('/home/ptrbdr/.config/matplotlib/stylelib/texty.mplstyle'), line 15 (\"                               'e5ae38',\")\n",
      "Missing colon in file Path('/home/ptrbdr/.config/matplotlib/stylelib/texty.mplstyle'), line 16 (\"                               '6d904f',\")\n",
      "Missing colon in file Path('/home/ptrbdr/.config/matplotlib/stylelib/texty.mplstyle'), line 17 (\"                               '8b8b8b',\")\n",
      "Missing colon in file Path('/home/ptrbdr/.config/matplotlib/stylelib/texty.mplstyle'), line 18 (\"                               '810f7c'])\")\n",
      "Bad value in file Path('/home/ptrbdr/.config/matplotlib/stylelib/texty.mplstyle'), line 13 (\"axes.prop_cycle: cycler(color=['008fd5', \"): Key axes.prop_cycle: 'cycler(color=['008fd5',' is not a valid cycler construction: unexpected EOF while parsing (<string>, line 1)\n",
      "Bad value in file Path('/home/ptrbdr/.config/matplotlib/stylelib/texty.mplstyle'), line 29 ('xtick.major.width: 2xtick.minor.size: 5'): Key xtick.major.width: Could not convert '2xtick.minor.size: 5' to float\n",
      "Bad value in file Path('/home/ptrbdr/.config/matplotlib/stylelib/texty.mplstyle'), line 32 ('ytick.major.width: 2ytick.minor.size: 5'): Key ytick.major.width: Could not convert '2ytick.minor.size: 5' to float\n"
     ]
    }
   ],
   "source": [
    "from fastcore.all import parallel\n",
    "import pandas as pd\n",
    "import requests \n",
    "import bs4\n",
    "import tqdm"
   ]
  },
  {
   "cell_type": "markdown",
   "metadata": {},
   "source": [
    "First lets get a list of all permits from [water agency website](https://e-services.davr.gov.ua/site/permit-registry). "
   ]
  },
  {
   "cell_type": "code",
   "execution_count": 5,
   "metadata": {
    "ExecuteTime": {
     "end_time": "2021-01-19T12:34:48.911536Z",
     "start_time": "2021-01-19T12:34:48.906840Z"
    }
   },
   "outputs": [],
   "source": [
    "# we define number of pages currently there are 1012 pages with permits\n",
    "page_numbers = [a+1 for a in range(1012)]"
   ]
  },
  {
   "cell_type": "code",
   "execution_count": 27,
   "metadata": {
    "ExecuteTime": {
     "end_time": "2021-01-19T12:39:11.965643Z",
     "start_time": "2021-01-19T12:39:11.959976Z"
    }
   },
   "outputs": [],
   "source": [
    "# handler function for downloading pages into folder\n",
    "def download_handler(idx):\n",
    "    try:\n",
    "        request = requests.get(f'https://e-services.davr.gov.ua/site/permit-registry?page={idx}')\n",
    "        with open(f'htmls/{idx}.html', 'w') as file:\n",
    "            file.write(request.text)\n",
    "        return (True, idx)\n",
    "    except:\n",
    "        return (False, idx)\n",
    "    "
   ]
  },
  {
   "cell_type": "code",
   "execution_count": 28,
   "metadata": {
    "ExecuteTime": {
     "end_time": "2021-01-19T12:39:47.147382Z",
     "start_time": "2021-01-19T12:39:12.833947Z"
    },
    "scrolled": true
   },
   "outputs": [
    {
     "data": {
      "text/html": [],
      "text/plain": [
       "<IPython.core.display.HTML object>"
      ]
     },
     "metadata": {},
     "output_type": "display_data"
    }
   ],
   "source": [
    "results = parallel(download_handler, page_numbers, n_workers=8)\n",
    "\n",
    "# you may need to run those indexes second time if any problems with network\n",
    "not_processed = results.filter(f=lambda x: x[0] != True).map(lambda x: x[1])"
   ]
  },
  {
   "cell_type": "code",
   "execution_count": 42,
   "metadata": {
    "ExecuteTime": {
     "end_time": "2021-01-19T12:43:44.682766Z",
     "start_time": "2021-01-19T12:43:44.676711Z"
    }
   },
   "outputs": [],
   "source": [
    "def parse_general_table(page):\n",
    "    table = pd.read_html(f'htmls/{page}.html')[0]\n",
    "\n",
    "    table.columns = [d[0] for d in table.columns]\n",
    "\n",
    "    idxs = []\n",
    "    for d in bs4.BeautifulSoup(open(f'htmls/{page}.html')).select('tr a'):\n",
    "        if d['href'].split('=')[1] != '1&sort':\n",
    "            idxs.append(d['href'].split('=')[1] )\n",
    "\n",
    "\n",
    "    table['Доступні дії'] = [d for d in idxs if 'sort' not in d ]\n",
    "    table['page_number_of_permit'] = page\n",
    "\n",
    "    return table "
   ]
  },
  {
   "cell_type": "code",
   "execution_count": 43,
   "metadata": {
    "ExecuteTime": {
     "end_time": "2021-01-19T12:43:46.169744Z",
     "start_time": "2021-01-19T12:43:45.517832Z"
    }
   },
   "outputs": [
    {
     "name": "stderr",
     "output_type": "stream",
     "text": [
      "100%|██████████| 20/20 [00:00<00:00, 31.01it/s]\n"
     ]
    }
   ],
   "source": [
    "parsing_res = []\n",
    "for d in tqdm.tqdm(page_numbers[:20]):\n",
    "    t = parse_general_table(d)\n",
    "    parsing_res.append(t)"
   ]
  },
  {
   "cell_type": "code",
   "execution_count": 44,
   "metadata": {
    "ExecuteTime": {
     "end_time": "2021-01-19T12:43:46.601364Z",
     "start_time": "2021-01-19T12:43:46.577026Z"
    }
   },
   "outputs": [],
   "source": [
    "general_table_data = pd.concat(parsing_res)\n",
    "general_table_data.to_csv('overal_permits_table.csv', index=False)"
   ]
  },
  {
   "cell_type": "markdown",
   "metadata": {},
   "source": [
    "We have a list of all permits, we have to select unique permits that are still active and scrape base information from each permit"
   ]
  },
  {
   "cell_type": "code",
   "execution_count": 47,
   "metadata": {
    "ExecuteTime": {
     "end_time": "2021-01-19T12:45:10.459206Z",
     "start_time": "2021-01-19T12:45:10.452781Z"
    }
   },
   "outputs": [],
   "source": [
    "ids_of_permits = general_table_data.loc[general_table_data['Поточний стан'] == 'діючий']['Доступні дії'].unique()"
   ]
  },
  {
   "cell_type": "code",
   "execution_count": 71,
   "metadata": {
    "ExecuteTime": {
     "end_time": "2021-01-19T14:47:55.826017Z",
     "start_time": "2021-01-19T14:47:55.820455Z"
    }
   },
   "outputs": [],
   "source": [
    "def parse_permit_table(page):\n",
    "    try:\n",
    "        response = requests.get(f'https://e-services.davr.gov.ua/parlor/p-permit-registry/view-permit?id={page}')\n",
    "        with open(f'permits/{page}.html', 'w') as file:\n",
    "            file.write(response.text)\n",
    "        return (True, page)\n",
    "    except:\n",
    "        return (False, page)\n",
    "\n",
    "    \n",
    "\n",
    "    "
   ]
  },
  {
   "cell_type": "code",
   "execution_count": 72,
   "metadata": {
    "ExecuteTime": {
     "end_time": "2021-01-19T14:49:39.489184Z",
     "start_time": "2021-01-19T14:47:57.928536Z"
    }
   },
   "outputs": [
    {
     "data": {
      "text/html": [],
      "text/plain": [
       "<IPython.core.display.HTML object>"
      ]
     },
     "metadata": {},
     "output_type": "display_data"
    }
   ],
   "source": [
    "results_permits = parallel(parse_permit_table, ids_of_permits, n_workers=8)"
   ]
  },
  {
   "cell_type": "code",
   "execution_count": 58,
   "metadata": {
    "ExecuteTime": {
     "end_time": "2021-01-19T12:49:12.472505Z",
     "start_time": "2021-01-19T12:49:12.467596Z"
    }
   },
   "outputs": [],
   "source": [
    "# you may need to run those indexes second time if any problems with network\n",
    "not_processed = results_permits.filter(f=lambda x: x[0] != True).map(lambda x: x[1])"
   ]
  },
  {
   "cell_type": "markdown",
   "metadata": {},
   "source": [
    "Download pages with the coordinates of extraction sites"
   ]
  },
  {
   "cell_type": "code",
   "execution_count": 73,
   "metadata": {
    "ExecuteTime": {
     "end_time": "2021-01-19T15:07:56.827344Z",
     "start_time": "2021-01-19T15:07:56.816897Z"
    }
   },
   "outputs": [],
   "source": [
    "water_extraction_place_id = pd.read_csv('water_extraction_place_id.csv')"
   ]
  },
  {
   "cell_type": "code",
   "execution_count": 76,
   "metadata": {
    "ExecuteTime": {
     "end_time": "2021-01-19T15:08:28.874291Z",
     "start_time": "2021-01-19T15:08:28.856459Z"
    }
   },
   "outputs": [],
   "source": [
    "lists_of_ids = water_extraction_place_id.apply(lambda x: (x['permit_id'],x['water_extraction_place_id']), axis=1).to_list()"
   ]
  },
  {
   "cell_type": "markdown",
   "metadata": {},
   "source": [
    "## Send request "
   ]
  },
  {
   "cell_type": "markdown",
   "metadata": {},
   "source": [
    "Video describing where to get headers and cookies for request:\n",
    "https://www.youtube.com/watch?v=DxeSGUM16_4 "
   ]
  },
  {
   "cell_type": "code",
   "execution_count": 1,
   "metadata": {
    "ExecuteTime": {
     "end_time": "2021-10-26T12:27:23.512685Z",
     "start_time": "2021-10-26T12:27:23.508856Z"
    }
   },
   "outputs": [],
   "source": [
    "for d in tqdm.tqdm(lists_of_ids):\n",
    "    cookies = {\n",
    "        '_ga': 'GA1.3.1894082937.1589469539',\n",
    "        'PHPSESSID': 'c1jp23efiemhffg0rtkkr9omt2',\n",
    "        '_csrf': '39f56d58225ed9b6ba51201d83d09a599e86b76b7c19a6483866374286cdfb4fa%3A2%3A%7Bi%3A0%3Bs%3A5%3A%22_csrf%22%3Bi%3A1%3Bs%3A32%3A%22s0F0qDo6U8lbh0ZyA_Alze2wyER30y3u%22%3B%7D',\n",
    "        '_gid': 'GA1.3.965287914.1592209945',\n",
    "    }\n",
    "\n",
    "    headers = {\n",
    "        'User-Agent': 'Mozilla/5.0 (X11; Ubuntu; Linux x86_64; rv:75.0) Gecko/20100101 Firefox/75.0',\n",
    "        'Accept': 'application/json, text/javascript, */*; q=0.01',\n",
    "        'Accept-Language': 'en-US,en;q=0.5',\n",
    "        'X-CSRF-Token': 'XKny1CExvGWArojHM4p2dI7v6ihpJIK_KI26QTJkrCIvmbTkUHXTU9WW5KVbuiwNz7CrRBNBsMhRyOhyAh2fVw==',\n",
    "        'Content-Type': 'application/x-www-form-urlencoded; charset=UTF-8',\n",
    "        'X-Requested-With': 'XMLHttpRequest',\n",
    "        'Origin': 'https://e-services.davr.gov.ua',\n",
    "        'Connection': 'keep-alive',\n",
    "        'Referer': f'https://e-services.davr.gov.ua/parlor/p-permit-registry/view-permit?id={d[0]}',\n",
    "        'Pragma': 'no-cache',\n",
    "        'Cache-Control': 'no-cache',\n",
    "    }\n",
    "\n",
    "    data = {\n",
    "      'id': d[1]\n",
    "    }\n",
    "\n",
    "    response = requests.post('https://e-services.davr.gov.ua/parlor/p-permit-registry/view-water-place',\n",
    "                             headers=headers, \n",
    "                             cookies=cookies, \n",
    "                             data=data)\n",
    "    \n",
    "    with open(f'water_extract_locations/{d[0]}_{d[1]}.html', 'w') as file:\n",
    "            file.write(response.json()['html'])"
   ]
  },
  {
   "cell_type": "code",
   "execution_count": null,
   "metadata": {},
   "outputs": [],
   "source": []
  }
 ],
 "metadata": {
  "kernelspec": {
   "display_name": "Python 3",
   "language": "python",
   "name": "python3"
  },
  "language_info": {
   "codemirror_mode": {
    "name": "ipython",
    "version": 3
   },
   "file_extension": ".py",
   "mimetype": "text/x-python",
   "name": "python",
   "nbconvert_exporter": "python",
   "pygments_lexer": "ipython3",
   "version": "3.8.10"
  },
  "toc": {
   "base_numbering": 1,
   "nav_menu": {},
   "number_sections": true,
   "sideBar": true,
   "skip_h1_title": false,
   "title_cell": "Table of Contents",
   "title_sidebar": "Contents",
   "toc_cell": false,
   "toc_position": {},
   "toc_section_display": true,
   "toc_window_display": false
  }
 },
 "nbformat": 4,
 "nbformat_minor": 4
}
