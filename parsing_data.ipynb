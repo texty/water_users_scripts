{
 "cells": [
  {
   "cell_type": "code",
   "execution_count": 33,
   "metadata": {
    "ExecuteTime": {
     "end_time": "2021-01-19T14:53:59.297727Z",
     "start_time": "2021-01-19T14:53:59.292679Z"
    }
   },
   "outputs": [],
   "source": [
    "from fastcore.all import parallel\n",
    "import pandas as pd\n",
    "import requests \n",
    "import bs4\n",
    "import tqdm\n",
    "from pathlib import Path\n",
    "import os\n",
    "import re"
   ]
  },
  {
   "cell_type": "markdown",
   "metadata": {},
   "source": [
    "get water user's water extraction place metadata"
   ]
  },
  {
   "cell_type": "code",
   "execution_count": 34,
   "metadata": {
    "ExecuteTime": {
     "end_time": "2021-01-19T14:53:59.524228Z",
     "start_time": "2021-01-19T14:53:59.511691Z"
    }
   },
   "outputs": [],
   "source": [
    "path = Path(\".\")\n",
    "\n",
    "names = [Path(d.path).name for d in os.scandir(path/'permits/')]"
   ]
  },
  {
   "cell_type": "code",
   "execution_count": 45,
   "metadata": {
    "ExecuteTime": {
     "end_time": "2021-01-19T15:06:51.366194Z",
     "start_time": "2021-01-19T15:06:51.359721Z"
    }
   },
   "outputs": [],
   "source": [
    "def parse_html(name):\n",
    "    html = open(f'permits/{name}').read()\n",
    "    soup = bs4.BeautifulSoup(html)\n",
    "    water_id = [{'name': name, 'water_extraction_place_id':d['id'].split('_')[-1]} for d in soup.findAll('div', id=re.compile('water_use_place'))]\n",
    "    return water_id"
   ]
  },
  {
   "cell_type": "code",
   "execution_count": 46,
   "metadata": {
    "ExecuteTime": {
     "end_time": "2021-01-19T15:06:55.580425Z",
     "start_time": "2021-01-19T15:06:51.854396Z"
    }
   },
   "outputs": [
    {
     "data": {
      "text/html": [],
      "text/plain": [
       "<IPython.core.display.HTML object>"
      ]
     },
     "metadata": {},
     "output_type": "display_data"
    }
   ],
   "source": [
    "results = parallel(parse_html, names, n_workers=8)\n",
    "\n"
   ]
  },
  {
   "cell_type": "code",
   "execution_count": 49,
   "metadata": {
    "ExecuteTime": {
     "end_time": "2021-01-19T15:06:59.903718Z",
     "start_time": "2021-01-19T15:06:59.887025Z"
    }
   },
   "outputs": [],
   "source": [
    "water_extraction_place_id = pd.DataFrame([dd for d in results for dd in d  ])\n",
    "\n",
    "water_extraction_place_id['permit_id'] = water_extraction_place_id.name.str.split('.').str[0]\n",
    "\n",
    "water_extraction_place_id.to_csv('water_extraction_place_id.csv', index=False)"
   ]
  },
  {
   "cell_type": "markdown",
   "metadata": {},
   "source": [
    "get  coordinates"
   ]
  },
  {
   "cell_type": "code",
   "execution_count": 52,
   "metadata": {
    "ExecuteTime": {
     "end_time": "2021-01-19T15:18:24.180503Z",
     "start_time": "2021-01-19T15:18:24.171631Z"
    }
   },
   "outputs": [],
   "source": [
    "path = Path(\".\")\n",
    "\n",
    "names = [Path(d.path) for d in os.scandir(path/'water_extract_locations')]"
   ]
  },
  {
   "cell_type": "code",
   "execution_count": 73,
   "metadata": {
    "ExecuteTime": {
     "end_time": "2021-01-19T15:23:14.242671Z",
     "start_time": "2021-01-19T15:23:14.233263Z"
    }
   },
   "outputs": [],
   "source": [
    "#export\n",
    "def parse_water_extraction_file(name):\n",
    "    \"\"\"\n",
    "    Function to parse water_extract_locations files and get information about location and type \n",
    "    of water extractions\n",
    "    \n",
    "    \"\"\"\n",
    "    soup = bs4.BeautifulSoup(open(name).read())\n",
    "    \n",
    "    user, idx_of_location = name.stem.split(\"_\")\n",
    "    \n",
    "    descr = soup.select(\"div.form-group textarea\")[0].text\n",
    "    lat = soup.select('input#permitwaterplace-map_mark_y')[0]['value']\n",
    "    lng = soup.select('input#permitwaterplace-map_mark_x')[0]['value']\n",
    "    \n",
    "    \n",
    "    return {\n",
    "        'user_name': user,\n",
    "        'idx_of_location': idx_of_location,\n",
    "        'description': descr,\n",
    "        'lat': lat,\n",
    "        'lng': lng,\n",
    "    }\n",
    "    "
   ]
  },
  {
   "cell_type": "code",
   "execution_count": 74,
   "metadata": {
    "ExecuteTime": {
     "end_time": "2021-01-19T15:23:28.619455Z",
     "start_time": "2021-01-19T15:23:14.785501Z"
    }
   },
   "outputs": [
    {
     "data": {
      "text/html": [],
      "text/plain": [
       "<IPython.core.display.HTML object>"
      ]
     },
     "metadata": {},
     "output_type": "display_data"
    }
   ],
   "source": [
    "results = parallel(parse_water_extraction_file, names, n_workers=8)"
   ]
  },
  {
   "cell_type": "code",
   "execution_count": null,
   "metadata": {},
   "outputs": [],
   "source": []
  }
 ],
 "metadata": {
  "kernelspec": {
   "display_name": "Python 3",
   "language": "python",
   "name": "python3"
  },
  "language_info": {
   "codemirror_mode": {
    "name": "ipython",
    "version": 3
   },
   "file_extension": ".py",
   "mimetype": "text/x-python",
   "name": "python",
   "nbconvert_exporter": "python",
   "pygments_lexer": "ipython3",
   "version": "3.8.10"
  },
  "toc": {
   "base_numbering": 1,
   "nav_menu": {},
   "number_sections": true,
   "sideBar": true,
   "skip_h1_title": false,
   "title_cell": "Table of Contents",
   "title_sidebar": "Contents",
   "toc_cell": false,
   "toc_position": {},
   "toc_section_display": true,
   "toc_window_display": false
  }
 },
 "nbformat": 4,
 "nbformat_minor": 4
}
